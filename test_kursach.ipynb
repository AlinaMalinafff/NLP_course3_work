{
  "nbformat": 4,
  "nbformat_minor": 0,
  "metadata": {
    "colab": {
      "provenance": []
    },
    "kernelspec": {
      "name": "python3",
      "display_name": "Python 3"
    },
    "language_info": {
      "name": "python"
    }
  },
  "cells": [
    {
      "cell_type": "markdown",
      "source": [
        "план капкан:\n",
        "\n",
        "0. лингвистические штуки на кт надо обращать внимание\n",
        "\n",
        "1. авторазметка:\n",
        "создать модель которая вычленяет грамматические особенности\n",
        "и в соотвествии с опр правилами определеяет процесс или результат\n",
        "\n",
        "2. датасет базовый создан, создать векторную базу данных\n",
        "\n",
        "3. теперь нейронка которой всё это скормится и она будет уже сама что-то определять\n",
        "\n",
        "4. сайт / бот"
      ],
      "metadata": {
        "id": "IySlaaJUPhvW"
      }
    },
    {
      "cell_type": "markdown",
      "source": [
        "туду: часто сочетание - может не бинарная классификация а процент пренадлежности?\n",
        "\n",
        "туду: книжки по нлп чтобы критери метапрограммы определтить"
      ],
      "metadata": {
        "id": "n4Q09n2Y_y9q"
      }
    },
    {
      "cell_type": "markdown",
      "source": [
        "грамматические маркеры процесса:\n",
        "- глаголы процесса (делаю работаю иду исследую) продолжительное действие\n",
        "- последовательность дейтсвий через союзы сначала потом затем\n",
        "- подробно описание дейтсвия без конркетного результата\n",
        "- слова по типу постепенно шаг за шагом планирование процесс\n",
        "- удовольствие или интерес от самой деятельности\n",
        "- акцент на текущих действиях и процессах\n",
        "- оценка успеха через качество выполнения этапов\n",
        "- в структуре предлложения больше слжных детальных описаний , сложноподчинённые предлоожения союзы пока когда после того как\n",
        "- метафоры: Дорога важнее конечной точки\", \"путешествие в тысячу миль начинается с одного шага\"\n",
        "- этап продвижение шаг развитие движение\n",
        "- работать изучать аналзировать думать планировать\n",
        "- сейчас в процессе на данном этапе постепенно\n",
        "- интересно важно ценно\n",
        "- ещё пока сначала затем после\n",
        "- важно желательно стоит связка с процессом\n",
        "- \"Как путешествие\", \"шаг за шагом\", \"строим фундамент\"\n",
        "- Пример правила: Если в предложении встречается ≥2 глагола в форме настоящего времени (действие), отнести к категории \"процесс\"\n",
        "Лексемы: этап, шаг, последовательность, стадия, промежуточный результат, шаг за шагом.\n",
        "Пример правила: Если присутствует слово из списка \"этапные\", классифицировать как \"процесс\".\n",
        "Лексемы: сейчас, пока, постепенно, в данный момент.\n",
        "Пример правила: Если маркеры времени указывают на текущие действия, это \"процесс\".\n",
        "Лексемы: интересно, увлекательно, важно понимать, меня вдохновляет сам процесс.\n",
        "Пример правила: Если встречаются слова из списка \"оценочные процессные\", классифицировать как \"процесс\".\n",
        "Глаголы длительного вида (несовершенный вид):\n",
        "\n",
        "    Формы: делаю, изучаю, работаю, планирую.\n",
        "    Пример правила: Если предложение содержит ≥1 глагол в несовершенном виде, отнести к \"процессу\".\n",
        "\n",
        "Признаки: союзы пока, когда, затем, после того как.\n",
        "Пример правила: Если предложение содержит ≥1 сложный союз и описывает последовательность, классифицировать как \"процесс\".\n",
        "Признаки: наличие ≥3 уточнений (где, как, что именно).\n",
        "Пример правила: Если предложение описывает последовательность действий с деталями, это \"процесс\".\n",
        "Признаки: сначала, потом, ещё, пока, постепенно.\n",
        "Пример правила: Если в предложении ≥1 частица из списка \"процессные\", классифицировать как \"процесс\".\n",
        "Признаки: желательно, важно понимать, полезно изучить.\n",
        "Пример правила: Если модальные слова связаны с процессом, отнести к \"процессу\".\n",
        "\n",
        "\n",
        "\n",
        "\n",
        "результат:\n",
        "- слова законченности дейтсвия сделал достиг получил\n",
        "- слова типа результат, достижение, цель, конечный продукт\n",
        "- описание что должно быть сделано а не как\n",
        "- подчеркивает важность достижения\n",
        "- выражения успеха типа завершить, получить резульатт, максимально эффективно\n",
        "- говорить о выгодах и последствиях типа мне важно что я получу в итоге\n",
        "- оценка успеха в достидении цели\n",
        "- сьтруктура предлжения - чёткие краткие мылси акцент на сути отстуствие сложных контрукций причастия деепричастия\n",
        "- чтобы для того чтобы в итоге\n",
        "- метафора \"Прибытие к финишу\", \"достичь вершины горы\"\n",
        "- результат успех цель достижение выгода эффект продукт\n",
        "- достичь завершить получить решить закончить\n",
        "- сроки показатели выгоды\n",
        "- итак в итоге в результате\n",
        "- необходимо обязательно нужно\n",
        "- \"Как финишная черта\", \"итоговый продукт\", \"вершина горы\".\n",
        "Лексемы: результат, достижение, успех, цель, итог, выполнение, завершение.\n",
        "Пример правила: Если встречается ≥1 слово из списка \"результативные\", классифицировать как \"результат\".\n",
        "Лексемы: прибыль, эффективность, рост, улучшение, продукт, достижение цели.\n",
        "Пример правила: Если встречается слово из списка \"выгодные\", классифицировать как \"результат\".\n",
        "Лексемы: для того чтобы, чтобы, ради, с целью.\n",
        "Пример правила: Если есть ≥1 маркер цели, классифицировать как \"результат\".\n",
        "Лексемы: важно достичь, значимо выполнить, главное завершить.\n",
        "Пример правила: Если встречаются слова из списка \"оценочные результативные\", классифицировать как \"результат\".\n",
        "Формы: завершил, достиг, решил, получил.\n",
        "Пример правила: Если предложение содержит ≥1 глагол совершенного вида, классифицировать как \"результат\".\n",
        "Признаки: отсутствие сложноподчинённых конструкций, акцент на конечном результате.\n",
        "Пример правила: Если предложение короткое, завершённое по смыслу и содержит глагол действия, это \"результат\".\n",
        "Признаки: слова чтобы, для того чтобы, итог.\n",
        "Пример правила: Если цель или итоговая точка явно указаны, классифицировать как \"результат\".\n",
        "Частицы, указывающие на результат:\n",
        "\n",
        "    Признаки: итак, в итоге, наконец.\n",
        "    Пример правила: Если в предложении ≥1 частица из списка \"результативные\", классифицировать как \"результат\".\n",
        "\n",
        "\n",
        "Признаки: необходимо, важно достичь, нужно завершить.\n",
        "Пример правила: Если модальные слова связаны с целью, отнести к \"результату\".\n",
        "\n",
        "Если ≥2 маркеров процесса и <2 маркеров результата, классифицировать как \"процесс\".\n",
        "Если ≥2 маркеров результата и <2 маркеров процесса, классифицировать как \"результат\".\n",
        "\n",
        "Если ≥2 соседних предложения содержат одинаковый тип маркеров, распространять классификацию на весь текстовый блок."
      ],
      "metadata": {
        "id": "NdXohRuFABOV"
      }
    },
    {
      "cell_type": "markdown",
      "source": [
        "АНАЛИЗ ТЕКСАТ ТУДУ:\n",
        "\n",
        "Лексический анализ:\n",
        "\n",
        "    Соберите словарь маркеров для процесса и результата.\n",
        "    Считайте частоты упоминаний этих маркеров.\n",
        "\n",
        "Анализ тональности и стиля:\n",
        "\n",
        "    Исследуйте эмоциональные и когнитивные аспекты текста.\n",
        "\n",
        "Разделение на тематические блоки:\n",
        "\n",
        "    Некоторые тексты могут содержать оба аспекта. Например, начало интервью может быть ориентировано на процесс, а конец на результат."
      ],
      "metadata": {
        "id": "BjRCkmFGB2tH"
      }
    },
    {
      "cell_type": "markdown",
      "source": [
        "ПЕРВЫЙ ПОДХОД\n",
        "\n",
        "1. rule-based model - Start with a rule-based model because you have predefined rules (e.g., verb tenses). This approach allows you to leverage linguistic features without requiring labeled data.\n",
        "Steps:\n",
        "\n",
        "    Extract Linguistic Features:\n",
        "        Use a natural language processing (NLP) library like spaCy or NLTK to parse sentences and extract grammatical features such as:\n",
        "            Verb tense (past, present, future)\n",
        "            Presence of modal verbs (e.g., \"will,\" \"shall\")\n",
        "            Part-of-speech tags (e.g., nouns, adjectives)\n",
        "    Define Rules:\n",
        "        Encode your known rules, such as:\n",
        "            If a sentence has verbs in past tense, classify as \"results.\"\n",
        "            If a sentence has verbs in present/future tense, classify as \"processes.\"\n",
        "\n",
        "2. Semi-Supervised Machine Learning\n",
        "\n",
        "To go beyond strict rules and generalize better, you can combine rule-based predictions with machine learning. Use the rule-based outputs as pseudo-labels to train a model.\n",
        "Steps:\n",
        "\n",
        "    Generate Pseudo-Labels:\n",
        "        Apply the rule-based system to classify your unlabelled dataset.\n",
        "        Use these classifications as pseudo-labels.\n",
        "    Feature Engineering:\n",
        "        Convert text data into numeric features using techniques like:\n",
        "            Bag of Words (BoW) or Term Frequency-Inverse Document Frequency (TF-IDF)\n",
        "            Word embeddings (e.g., Word2Vec, GloVe)\n",
        "            Sentence embeddings (e.g., Sentence-BERT)\n",
        "    Train a Classifier:\n",
        "        Train a simple machine learning model (e.g., Logistic Regression, Random Forest, or Support Vector Machine) using the pseudo-labeled data.\n",
        "        Validate the model by splitting the pseudo-labeled data and testing its performance.\n",
        "\n",
        "For your classification task, the choice of approach depends on your constraints and preferences. Since you want to avoid manual labeling and already have some grammatical rules, a hybrid approach combining rule-based techniques with machine learning could be the most effective and efficient solution.\n",
        "\n",
        "Here's a step-by-step guide to your solution:\n",
        "1. Rule-Based Model\n",
        "\n",
        "Start with a rule-based model because you have predefined rules (e.g., verb tenses). This approach allows you to leverage linguistic features without requiring labeled data.\n",
        "Steps:\n",
        "\n",
        "    Extract Linguistic Features:\n",
        "        Use a natural language processing (NLP) library like spaCy or NLTK to parse sentences and extract grammatical features such as:\n",
        "            Verb tense (past, present, future)\n",
        "            Presence of modal verbs (e.g., \"will,\" \"shall\")\n",
        "            Part-of-speech tags (e.g., nouns, adjectives)\n",
        "    Define Rules:\n",
        "        Encode your known rules, such as:\n",
        "            If a sentence has verbs in past tense, classify as \"results.\"\n",
        "            If a sentence has verbs in present/future tense, classify as \"processes.\"\n",
        "\n",
        "2. Semi-Supervised Machine Learning\n",
        "\n",
        "To go beyond strict rules and generalize better, you can combine rule-based predictions with machine learning. Use the rule-based outputs as pseudo-labels to train a model.\n",
        "Steps:\n",
        "\n",
        "    Generate Pseudo-Labels:\n",
        "        Apply the rule-based system to classify your unlabelled dataset.\n",
        "        Use these classifications as pseudo-labels.\n",
        "    Feature Engineering:\n",
        "        Convert text data into numeric features using techniques like:\n",
        "            Bag of Words (BoW) or Term Frequency-Inverse Document Frequency (TF-IDF)\n",
        "            Word embeddings (e.g., Word2Vec, GloVe)\n",
        "            Sentence embeddings (e.g., Sentence-BERT)\n",
        "    Train a Classifier:\n",
        "        Train a simple machine learning model (e.g., Logistic Regression, Random Forest, or Support Vector Machine) using the pseudo-labeled data.\n",
        "        Validate the model by splitting the pseudo-labeled data and testing its performance.\n",
        "\n",
        "3. Neural Network (Optional)\n",
        "\n",
        "If your dataset is large enough, you can use neural networks for more sophisticated feature extraction and classification. Fine-tuning a pre-trained transformer model (e.g., BERT, RoBERTa) is especially effective for text classification.\n",
        "Steps:\n",
        "\n",
        "    Pretrain on Rules:\n",
        "        Use the pseudo-labeled data to fine-tune a pre-trained model.\n",
        "    Fine-Tune with Augmentation:\n",
        "        Add synthetic examples generated based on grammatical rules to balance the training data."
      ],
      "metadata": {
        "id": "pfchSPnx17Mx"
      }
    },
    {
      "cell_type": "markdown",
      "source": [
        "ВТОРОЙ ПОДХОД\n",
        "\n",
        "1. unsupervised"
      ],
      "metadata": {
        "id": "eN2fUBGb5gMU"
      }
    },
    {
      "cell_type": "markdown",
      "source": [
        "ТРЕТИЙ\n",
        "\n",
        "1. supervised"
      ],
      "metadata": {
        "id": "O47UbjpJ5n-8"
      }
    },
    {
      "cell_type": "code",
      "execution_count": null,
      "metadata": {
        "id": "a9k1InE-42pC"
      },
      "outputs": [],
      "source": []
    },
    {
      "cell_type": "markdown",
      "source": [
        "# Первый подход"
      ],
      "metadata": {
        "id": "8eC82ntr6P_B"
      }
    },
    {
      "cell_type": "markdown",
      "source": [
        "мы не хотим размечать данные вручную. и у нас некоторый пул грамматических правил для определения"
      ],
      "metadata": {
        "id": "dQGOSjiu6THV"
      }
    }
  ]
}